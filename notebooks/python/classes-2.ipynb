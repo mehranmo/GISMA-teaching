{
  "cells": [
    {
      "cell_type": "markdown",
      "id": "isolated-catholic",
      "metadata": {
        "id": "isolated-catholic"
      },
      "source": [
        "# Classes"
      ]
    },
    {
      "cell_type": "markdown",
      "id": "valuable-coupon",
      "metadata": {
        "id": "valuable-coupon"
      },
      "source": [
        "## Course Class\n",
        "Define a course class with the followings:\n",
        "- A `code` attribute.\n",
        "- A `name` attribute.\n",
        "- A `credits` attribute.\n",
        "- A `semester` attribute.\n",
        "- An `instructor` attribute.\n",
        "- An `__init__` method.\n",
        "- A `__str__` method."
      ]
    },
    {
      "cell_type": "markdown",
      "source": [
        "Add these attributes to this class:\n",
        "\n",
        "- list of class participents\n",
        "- class capacity\n",
        "\n",
        "\n",
        "- a function add_participent to  add a participent to the class if the class capacity is not full"
      ],
      "metadata": {
        "id": "N0ikGK1fX-Bn"
      },
      "id": "N0ikGK1fX-Bn"
    },
    {
      "cell_type": "code",
      "execution_count": 9,
      "id": "e6eee1fd",
      "metadata": {
        "id": "e6eee1fd"
      },
      "outputs": [],
      "source": [
        "class Course:\n",
        "\n",
        "  def __init__(self,  name, credits = 0, semester =  \"2023-1\", instructor = \"Instructor\"):\n",
        "    self.name = name\n",
        "    self.credits = credits\n",
        "    self.semester = semester\n",
        "    self.instructor = instructor\n",
        "\n",
        "    self.code = self.name.upper() + self.semester\n",
        "\n",
        "  def __str__(self):\n",
        "    return f\"Course details: Name: {self.name}, Code: {self.code}, credits:{self.credits}, semseter: {self.semester}, instructor: {self.instructor} \"\n",
        "\n"
      ]
    },
    {
      "cell_type": "code",
      "source": [
        "python_course = Course(\"Python\",5,\"2023-2\",\"Mehran\")\n",
        "\n",
        "print(python_course)\n",
        "\n"
      ],
      "metadata": {
        "id": "ol7QXdD3Ui_4",
        "outputId": "f39b9777-369e-4207-d267-29ce96d6ec43",
        "colab": {
          "base_uri": "https://localhost:8080/"
        }
      },
      "id": "ol7QXdD3Ui_4",
      "execution_count": 10,
      "outputs": [
        {
          "output_type": "stream",
          "name": "stdout",
          "text": [
            "Course details: Name: Python, Code: PYTHON2023-2, credits:5, semseter: 2023-2, instructor: Mehran \n"
          ]
        }
      ]
    },
    {
      "cell_type": "markdown",
      "source": [],
      "metadata": {
        "id": "BNOJlmkyWg9g"
      },
      "id": "BNOJlmkyWg9g"
    },
    {
      "cell_type": "markdown",
      "metadata": {
        "id": "zG_VzwaES6UG"
      },
      "source": [
        "## Student Class\n",
        "Define a student class with the followings:\n",
        "- A `first_name` attribute.\n",
        "- A `last_name` attribute.\n",
        "- An `number` attribute.\n",
        "- A `courses` attribute that stores a dictionary of passed **course objects** and their mark.\n",
        "- An `__init__` method.\n",
        "- A `__str__` method.\n",
        "- A `get_gpa` method.\n",
        "- A `set_course_mark` method."
      ],
      "id": "zG_VzwaES6UG"
    },
    {
      "cell_type": "code",
      "execution_count": null,
      "id": "according-purse",
      "metadata": {
        "id": "according-purse"
      },
      "outputs": [],
      "source": []
    },
    {
      "cell_type": "markdown",
      "id": "palestinian-expert",
      "metadata": {
        "id": "palestinian-expert"
      },
      "source": [
        "## University Class\n",
        "Define a university class with the followings:\n",
        "- A `name` attribute.\n",
        "- A `students` attribute that stores a list of **student objects**.\n",
        "- An `__init__` method.\n",
        "- A `__str__` method.\n",
        "- A `register_student` method.\n",
        "- A `graduate_student` method."
      ]
    },
    {
      "cell_type": "code",
      "execution_count": null,
      "id": "going-custom",
      "metadata": {
        "id": "going-custom"
      },
      "outputs": [],
      "source": []
    }
  ],
  "metadata": {
    "kernelspec": {
      "display_name": "Python 3",
      "language": "python",
      "name": "python3"
    },
    "language_info": {
      "codemirror_mode": {
        "name": "ipython",
        "version": 3
      },
      "file_extension": ".py",
      "mimetype": "text/x-python",
      "name": "python",
      "nbconvert_exporter": "python",
      "pygments_lexer": "ipython3",
      "version": "3.8.5"
    },
    "colab": {
      "provenance": []
    }
  },
  "nbformat": 4,
  "nbformat_minor": 5
}